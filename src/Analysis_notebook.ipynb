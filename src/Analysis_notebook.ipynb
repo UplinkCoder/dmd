{
 "cells": [
  {
   "cell_type": "code",
   "execution_count": null,
   "metadata": {},
   "outputs": [],
   "source": [
    "%matplotlib notebook\n",
    "import matplotlib.pyplot as plt\n",
    "\n",
    "import pandas as pd\n",
    "import numpy as np\n",
    "import os\n",
    "\n",
    "noise_floor = 500.0; # number of ticks which are utterly no changes\n",
    "ghz = 1.4\n",
    "cycles_per_second = ghz * 1000 * 1000 * 1000\n",
    "cycles_per_microsecond = ghz * 1000;\n",
    "seconds_per_cycle = 1 / cycles_per_second\n",
    "microseconds_per_cycle = 1 / cycles_per_microsecond"
   ]
  },
  {
   "cell_type": "code",
   "execution_count": null,
   "metadata": {},
   "outputs": [],
   "source": [
    "trace_file = \"/home/ubuntu/work/d_do_test.trace\"\n",
    "tools_path = \"/home/ubuntu/d/dmd/src\"\n",
    "\n",
    "def readTraceHeader(file_path) :\n",
    "    dt_header = np.dtype([\n",
    "        ('magic', np.int64), ('FileVersion', np.int32),\n",
    "        ('n_records', np.int32), ('n_phases', np.int32),('n_kinds', np.int32), ('n_symbols', np.int32),\n",
    "        ('offset_records', np.int32), ('offset_phases', np.int32),('offset_kinds', np.int32), ('offset_symbol_info_descriptors', np.int32)\n",
    "    ])\n",
    "\n",
    "    header_f = np.fromfile(file=file_path, dtype=dt_header, count=1)\n",
    "    header = pd.DataFrame(header_f, columns=header_f.dtype.names)\n",
    "    return header\n",
    "\n",
    "def readProfileRecords(file_path, h, v1_offset = 48) :\n",
    "    dt_record_v1 = ([\n",
    "                    ('begin_ticks', np.int64), ('end_ticks', np.int64),\n",
    "                    ('begin_mem', np.int64),('end_mem', np.int64),\n",
    "                    ('symbol_id', np.int32), ('kind_id', np.uint16), ('phase_id', np.uint16)\n",
    "    ])\n",
    "    f = open(file_path, \"rb\")\n",
    "    f.seek(v1_offset, os.SEEK_SET)\n",
    "    record_f = np.fromfile(file=f, dtype=dt_record_v1, count=h.n_records)\n",
    "    records = pd.DataFrame(record_f, columns=record_f.dtype.names)\n",
    "    return records\n",
    "\n",
    "def readSelfTimes(file_path, h) :\n",
    "    st = np.dtype([('symbol_id', np.int32), ('self', np.uint32)])\n",
    "    selftime = np.fromfile(file=file_path, dtype=st, count=h.n_records)\n",
    "    df = pd.DataFrame(selftime, columns=st.names)\n",
    "    return df\n",
    "\n",
    "def readParents(file_path, h) :\n",
    "    pt = np.dtype([('parent', np.uint32)])\n",
    "    parent = np.fromfile(file=file_path, dtype=pt, count=h.n_records)\n",
    "    df = pd.DataFrame(parent, columns=pt.names)\n",
    "    return df\n"
   ]
  },
  {
   "cell_type": "code",
   "execution_count": null,
   "metadata": {},
   "outputs": [],
   "source": [
    "h = readTraceHeader(trace_file)\n",
    "h"
   ]
  },
  {
   "cell_type": "code",
   "execution_count": null,
   "metadata": {},
   "outputs": [],
   "source": [
    "traceFileBase =  trace_file\n",
    "printTraceHeader = tools_path + \"/printTraceHeader\"\n",
    "HeaderOutput = !$printTraceHeader $traceFileBase Header\n",
    "!$printTraceHeader $traceFileBase OutputSelfStats\n",
    "!$printTraceHeader $traceFileBase OutputParentTable"
   ]
  },
  {
   "cell_type": "code",
   "execution_count": null,
   "metadata": {},
   "outputs": [],
   "source": [
    "%%time\n",
    "profileconvert = tools_path + \"/profilecvnt\"\n",
    "!$profileconvert $trace_file\n",
    "records = readProfileRecords(trace_file + \".v1\", h)\n",
    "#records[records['begin_mem'] != records['end_mem']]"
   ]
  },
  {
   "cell_type": "code",
   "execution_count": null,
   "metadata": {},
   "outputs": [],
   "source": [
    "r = records "
   ]
  },
  {
   "cell_type": "code",
   "execution_count": null,
   "metadata": {},
   "outputs": [],
   "source": [
    "kinds = [s for s in HeaderOutput if \"kinds=\" in s][0] \\\n",
    "    .split('#')"
   ]
  },
  {
   "cell_type": "code",
   "execution_count": null,
   "metadata": {},
   "outputs": [],
   "source": [
    "phases = [s for s in HeaderOutput if \"phases=\" in s][0] \\\n",
    "    .split('#')\n",
    "phases"
   ]
  },
  {
   "cell_type": "code",
   "execution_count": null,
   "metadata": {
    "scrolled": true
   },
   "outputs": [],
   "source": [
    "\n",
    "r['taken_ticks'] = r['end_ticks'] - r['begin_ticks']\n",
    "r['self_ticks'] =  readSelfTimes(trace_file + \".st\", h)['self']\n",
    "r['mem_taken'] = r['end_mem'] - r['begin_mem']\n",
    "r['self_mem'] =  readSelfTimes(trace_file + \".sm\", h)['self']\n",
    "r['parent'] = readParents(trace_file + \".pt\", h)['parent']"
   ]
  },
  {
   "cell_type": "code",
   "execution_count": null,
   "metadata": {},
   "outputs": [],
   "source": [
    "def SwapIndex(s) :\n",
    "    return pd.Series(s.index.values, index=s)\n",
    "\n",
    "SwapIndex(SwapIndex((r['kind_id'].value_counts() / len(r)).sort_values(ascending = False)).apply(lambda x: (x, kinds[x-1])))\n",
    "#kinds[5 - 1]\n",
    "#SwapIndex(r[r['self_mem'] > 1000].sort_values('self_mem', ascending=False).head(12)['phase_id'].value_counts()).apply(lambda x : phases[x-1])"
   ]
  },
  {
   "cell_type": "code",
   "execution_count": null,
   "metadata": {
    "scrolled": true
   },
   "outputs": [],
   "source": [
    "#SwapIndex(SwapIndex((r['phase_id'].value_counts() / len(r)).sort_values(ascending = False)).apply(lambda x: phases[x-1])).plot(kind='bar', figsize=(21,21)) \n",
    "SwapIndex(SwapIndex((r['phase_id'].value_counts() / len(r)).sort_values(ascending = False)).apply(lambda x: (x, phases[x-1])))\n"
   ]
  },
  {
   "cell_type": "code",
   "execution_count": null,
   "metadata": {
    "scrolled": true
   },
   "outputs": [],
   "source": [
    "taken_ticks_median = r['taken_ticks'].median()\n",
    "taken_ticks_avg = r['taken_ticks'].mean()\n",
    "self_ticks_median = r['self_ticks'].median()\n",
    "self_ticks_avg = r['self_ticks'].mean()\n",
    "(taken_ticks_median, taken_ticks_avg, self_ticks_median, self_ticks_avg)"
   ]
  },
  {
   "cell_type": "code",
   "execution_count": null,
   "metadata": {
    "scrolled": true
   },
   "outputs": [],
   "source": [
    "filtered_r = r[(r['self_mem'] > 20)].sort_values(['self_mem'], ascending = False).reset_index()\n",
    "max_self_mem = filtered_r['self_mem'].max()\n",
    "plot_r = SwapIndex(SwapIndex(filtered_r['phase_id'].value_counts()).apply(lambda x : phases[x-1]))\n",
    "#plot_r = filtered_r.head(13000).tail(7000).reset_index()['mem_taken'] #.to_csv(\"outlier_corrected_subset_of_symbols_taking_the_most_selftime.csv\")\n",
    "plt.style.use('ggplot')\n",
    "plot_r.plot(kind=\"barh\", figsize=(24,24),  legend = False)\n",
    "#r.head()"
   ]
  },
  {
   "cell_type": "code",
   "execution_count": null,
   "metadata": {},
   "outputs": [],
   "source": [
    "plt.savefig(trace_file + \"phases in comparision.png\")"
   ]
  },
  {
   "cell_type": "code",
   "execution_count": null,
   "metadata": {
    "scrolled": false
   },
   "outputs": [],
   "source": [
    "filtered_r[((filtered_r[\"mem_taken\"] - filtered_r[\"self_mem\"]) > 1000) & (True)]#.head(6525636).tail(2)\n",
    "f = r['begin_ticks'].plot(legend=True, figsize = (12, 12), title = \"Cummulative times of symbols\")\n",
    "f.set_xlabel(\"Symbol/Phase\")\n",
    "f.set_ylabel(\"Time per Symbol/Phase\")\n",
    "#f.yscale('linear')\n",
    "#f.xscale('linear')\n",
    "#plt.savefig(trace_file + \"time_vs_memory.png\")\n",
    "f\n"
   ]
  },
  {
   "cell_type": "code",
   "execution_count": null,
   "metadata": {},
   "outputs": [],
   "source": [
    "len(filtered_r)"
   ]
  },
  {
   "cell_type": "code",
   "execution_count": null,
   "metadata": {},
   "outputs": [],
   "source": []
  }
 ],
 "metadata": {
  "kernelspec": {
   "display_name": "Python 2",
   "language": "python",
   "name": "python2"
  },
  "language_info": {
   "codemirror_mode": {
    "name": "ipython",
    "version": 2
   },
   "file_extension": ".py",
   "mimetype": "text/x-python",
   "name": "python",
   "nbconvert_exporter": "python",
   "pygments_lexer": "ipython2",
   "version": "2.7.12"
  }
 },
 "nbformat": 4,
 "nbformat_minor": 2
}
